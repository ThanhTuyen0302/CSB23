{
 "cells": [
  {
   "cell_type": "markdown",
   "id": "51816d76",
   "metadata": {},
   "source": [
    "## Stack\n",
    "- **Ngăn xếp (Stack)** là một kiểu danh sách mà thao tác thêm và xóa phần tử được thực hiện ở **cuối danh sách**.\n",
    "- Stack là kiểu dữ liệu **Last In - First Out** (**LIFO**).\n",
    "- **Độ phức tạp** của các thao tác thêm/ xóa: **O(1)**"
   ]
  },
  {
   "cell_type": "markdown",
   "id": "b92e9d26",
   "metadata": {},
   "source": [
    "Khai báo: (sử dụng list để biểu diễn stack)"
   ]
  },
  {
   "cell_type": "code",
   "execution_count": 3,
   "id": "654c59ea",
   "metadata": {},
   "outputs": [],
   "source": [
    "stack = [54, 2, 45]"
   ]
  },
  {
   "cell_type": "markdown",
   "id": "6b3cce0d",
   "metadata": {},
   "source": [
    "Peek: truy cập phần tử"
   ]
  },
  {
   "cell_type": "code",
   "execution_count": 4,
   "id": "e9dea892",
   "metadata": {},
   "outputs": [
    {
     "data": {
      "text/plain": [
       "45"
      ]
     },
     "execution_count": 4,
     "metadata": {},
     "output_type": "execute_result"
    }
   ],
   "source": [
    "stack[-1] # lay phan tu cuoi cung"
   ]
  },
  {
   "cell_type": "markdown",
   "id": "d769f70d",
   "metadata": {},
   "source": [
    "Push: thêm phần tử đỉnh stack"
   ]
  },
  {
   "cell_type": "code",
   "execution_count": 5,
   "id": "7fe0a832",
   "metadata": {},
   "outputs": [
    {
     "data": {
      "text/plain": [
       "[54, 2, 45, 12]"
      ]
     },
     "execution_count": 5,
     "metadata": {},
     "output_type": "execute_result"
    }
   ],
   "source": [
    "stack.append(12)\n",
    "stack"
   ]
  },
  {
   "cell_type": "markdown",
   "id": "346af0fa",
   "metadata": {},
   "source": [
    "Pop: xóa + trả về phần tử ở đỉnh stack"
   ]
  },
  {
   "cell_type": "code",
   "execution_count": 6,
   "id": "2a5c7378",
   "metadata": {},
   "outputs": [
    {
     "data": {
      "text/plain": [
       "<function list.pop(index=-1, /)>"
      ]
     },
     "execution_count": 6,
     "metadata": {},
     "output_type": "execute_result"
    }
   ],
   "source": [
    "stack.pop"
   ]
  },
  {
   "cell_type": "markdown",
   "id": "8180d4f4",
   "metadata": {},
   "source": [
    "Kiểm tra rỗng"
   ]
  },
  {
   "cell_type": "code",
   "execution_count": 7,
   "id": "3bed1d4e",
   "metadata": {},
   "outputs": [
    {
     "name": "stdout",
     "output_type": "stream",
     "text": [
      "[54, 2, 45, 12]\n"
     ]
    }
   ],
   "source": [
    "if len(stack) == 0:\n",
    "    print(\"Empty\")\n",
    "else:\n",
    "    print(stack)"
   ]
  }
 ],
 "metadata": {
  "kernelspec": {
   "display_name": ".venv",
   "language": "python",
   "name": "python3"
  },
  "language_info": {
   "codemirror_mode": {
    "name": "ipython",
    "version": 3
   },
   "file_extension": ".py",
   "mimetype": "text/x-python",
   "name": "python",
   "nbconvert_exporter": "python",
   "pygments_lexer": "ipython3",
   "version": "3.11.9"
  }
 },
 "nbformat": 4,
 "nbformat_minor": 5
}
