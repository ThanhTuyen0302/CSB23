{
 "cells": [
  {
   "cell_type": "markdown",
   "id": "26486c43",
   "metadata": {},
   "source": [
    "- OOP: class (bản vẽ): quy định **thuộc tính** + **phương thức** cho object (bản sao)\n",
    "- Mỗi class đều bắt buộc có 1 def __init__(hàm khởi tạo) \n",
    "- Tên class **viết hoa chữ đầu**.\n",
    "- **4 Tính chất**:\n",
    "  - Kế thừa\n",
    "  - Đóng gói\n",
    "  - Trừu tượng\n",
    "  - Đa hình\n",
    "- *Note: mỗi class được tạo ra, **mặc định được kế thừa từ class Object** trong thư viện Python*\n",
    "    - Nếu không khai báo hàm khởi tạo -> chương trình sẽ lấy init mặc định từ Object"
   ]
  },
  {
   "cell_type": "markdown",
   "id": "9931ff1a",
   "metadata": {},
   "source": [
    "# Tạo class Animal: age, sound, name, hàm speak in ra tiếng kêu, hàm action\n",
    "# Tạo class Dog, Duck, Bird: chỉnh sửa lại hàm str để có thể in ra thông tin của các con vật\n",
    "# Mỗi con vật có action riêng"
   ]
  },
  {
   "cell_type": "code",
   "execution_count": null,
   "id": "61c25cc7",
   "metadata": {},
   "outputs": [],
   "source": [
    "class Animal:\n",
    "    # ham khoi tao (nhung thuoc tinh can nguoi dung truyen vao)\n",
    "    def__init__(self, name:str, age:int, sound:str):\n",
    "        self.__name = name\n",
    "        self.__age = age    \n",
    "        self.__sound = sound\n",
    "\n",
    "    # getter / setter (tinh dong goi)\n",
    "    def getName(self):\n",
    "        return self.__name\n",
    "    def getName(self, name):\n",
    "        self.__name = name\n",
    "    def getAge(self)\n",
    "        return self.__age\n",
    "    def setAge(self, age):\n",
    "        self.__age = age\n",
    "\n",
    "    # Tinh da hinh\n",
    "    def speak(self):\n",
    "        return self.name + \" speak \" +self.__sound\n",
    "\n",
    "    # Tinh truu truong\n",
    "    def action(self):...\n"
   ]
  }
 ],
 "metadata": {
  "kernelspec": {
   "display_name": ".venv",
   "language": "python",
   "name": "python3"
  },
  "language_info": {
   "codemirror_mode": {
    "name": "ipython",
    "version": 3
   },
   "file_extension": ".py",
   "mimetype": "text/x-python",
   "name": "python",
   "nbconvert_exporter": "python",
   "pygments_lexer": "ipython3",
   "version": "3.11.9"
  }
 },
 "nbformat": 4,
 "nbformat_minor": 5
}
