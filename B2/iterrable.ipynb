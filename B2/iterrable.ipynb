{
 "cells": [
  {
   "cell_type": "code",
   "execution_count": 1,
   "id": "7bfe87ab",
   "metadata": {},
   "outputs": [
    {
     "name": "stdout",
     "output_type": "stream",
     "text": [
      "{'01': 'Nguyen Van A', '02': 'Nguyen Van B', '03': 'Nguyen Van C'}\n",
      "{'01': 'Nguyen Van A', '02': 'Nguyen Van B', '03': 'Nguyen Van C', '04': 'Phan Van B'}\n",
      "{'01': 'Nguyen Van A', '03': 'Nguyen Van C', '04': 'Phan Van B'}\n",
      "Khong tim thay\n",
      "('04', 'Phan Van B')\n",
      "{'01': 'Nguyen Van A1', '03': 'Nguyen Van C'}\n",
      "01: Nguyen Van A1\n",
      "03: Nguyen Van C\n",
      "{}\n"
     ]
    }
   ],
   "source": [
    "# Khai báo\n",
    "students = {\n",
    "    \"01\": \"Nguyen Van A\", \n",
    "    \"02\": \"Nguyen Van B\", \n",
    "    \"03\": \"Nguyen Van C\", \n",
    "}\n",
    "print(students)\n",
    "\n",
    "# thêm phần tử\n",
    "students[\"04\"] = \"Phan Van B\"\n",
    "print(students)\n",
    "\n",
    "# xóa phần tử\n",
    "del students[\"02\"]\n",
    "print(students)\n",
    "\n",
    "# pop(key, default) => return value của key đã nhập, nếu không có thì trả về default\n",
    "da_xoa = students.pop(\"02\", \"Khong tim thay\")\n",
    "print(da_xoa)\n",
    "\n",
    "#popitem() => xóa phần tử cuối cùng => return tuple (key, value)\n",
    "da_xoa = students.popitem()\n",
    "print(da_xoa)\n",
    "\n",
    "# sửa phần tử (ghi đè)\n",
    "students[\"01\"] = \"Nguyen Van A1\"\n",
    "print(students)\n",
    "\n",
    "# tìm kiếm phần tử\n",
    "# dict.keys(): danh sach khoa\n",
    "# dict.values(): danh sach gia tri\n",
    "# dict.items(): danh sach tuple (khoa, gia tri)\n",
    "for key, value in students.items():\n",
    "    print(f\"{key}: {value}\")\n",
    "    \n",
    "# => tao dict bang for (viet tat) lay danh sach co id la so chan\n",
    "danh_sach_moi = {k: v for k, v in students.items() if int(k) % 2 == 0}\n",
    "print(danh_sach_moi)\n"
   ]
  },
  {
   "cell_type": "markdown",
   "id": "7cbfd6de",
   "metadata": {},
   "source": [
    "- Danh sách có 2 phần: **{\"key\": \"value\"}**.\n",
    "- Mỗi item (key/ value) cách nhau bởi dấu **,**\n",
    "- Key không được trùng giữa các item => trùng lặp thì ghi đè value cũ."
   ]
  }
 ],
 "metadata": {
  "kernelspec": {
   "display_name": ".venv",
   "language": "python",
   "name": "python3"
  },
  "language_info": {
   "codemirror_mode": {
    "name": "ipython",
    "version": 3
   },
   "file_extension": ".py",
   "mimetype": "text/x-python",
   "name": "python",
   "nbconvert_exporter": "python",
   "pygments_lexer": "ipython3",
   "version": "3.11.9"
  }
 },
 "nbformat": 4,
 "nbformat_minor": 5
}
