{
 "cells": [
  {
   "cell_type": "code",
   "execution_count": null,
   "id": "a40697d0",
   "metadata": {},
   "outputs": [],
   "source": [
    "# hàm 1 dòng (lambda)\n",
    "# tạo hàm kiểm tra số lẻ\n",
    "def is_odd(n : int) -> bool:\n",
    "    return n % 2 != 0\n",
    "\n",
    "# CÚ PHÁP: lambda <params> : <code return>\n",
    "odd_value = lambda n : n % 2 != 0\n",
    "odd_value(15)"
   ]
  },
  {
   "cell_type": "markdown",
   "id": "cb758a4e",
   "metadata": {},
   "source": [
    "- Khai báo hàm: **def**\n",
    "- Khi khai báo, trong ngoặc tròn (tham số/ parameters)\n",
    "- Nếu gọi hàm để chạy, nhập giá trị cho tham số => (đối số/ arguments)\n",
    "- **return**: trả về giá trị cụ thể"
   ]
  }
 ],
 "metadata": {
  "kernelspec": {
   "display_name": ".venv",
   "language": "python",
   "name": "python3"
  },
  "language_info": {
   "name": "python",
   "version": "3.11.9"
  }
 },
 "nbformat": 4,
 "nbformat_minor": 5
}
