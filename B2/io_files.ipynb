{
 "cells": [
  {
   "cell_type": "markdown",
   "id": "08a8ed8b",
   "metadata": {},
   "source": [
    "# Đọc flie"
   ]
  },
  {
   "cell_type": "code",
   "execution_count": null,
   "id": "caee4d76",
   "metadata": {},
   "outputs": [],
   "source": [
    "# tao bien luu file duoc goi\n",
    "file = open(\"data.txt\", \"r\")\n",
    "# read(): đọc hết dữ liệu => return: string\n",
    "data = file.read()\n",
    "print(data)\n",
    "# readline(): đọc từng dòng => return: string\n",
    "data = file.readline()\n",
    "print(data)\n",
    "# readlines(): đọc hêt dữ liệu (lấy luôn kí tự đặc biệt) => return: list \n",
    "data = file.readlines()\n",
    "print(data)\n",
    "\n",
    "# đóng file\n",
    "file.close()"
   ]
  },
  {
   "cell_type": "markdown",
   "id": "9868c3aa",
   "metadata": {},
   "source": [
    "# Ghi file"
   ]
  },
  {
   "cell_type": "markdown",
   "id": "191b88dc",
   "metadata": {},
   "source": [
    "# w: ghi đè file cũ hoặc tạo mới nếu chưa có\n",
    "# x: tạo mới và ghi vào, nếu đã có file -> báo lỗi"
   ]
  },
  {
   "cell_type": "code",
   "execution_count": null,
   "id": "3da2eefb",
   "metadata": {},
   "outputs": [],
   "source": [
    "with open(\"new_data.txt\", \"w\", encoding=\"utf-8\") as file:\n",
    "    # ghi 1 dong \n",
    "    file.write(\"Hello, World!\")\n",
    "    # ghi nhiều dong\n",
    "    file.write(\"\\n\")\n",
    "    file.write(\"Python\\t\")\n",
    "# a: append, ghi tiep du lieu trong file (bổ sung vào cuối file)\n",
    "with open(\"new_data.txt\", \"a\") as file:\n",
    "    # viet nhieu dong \n",
    "    file.writelines([\"abc\\n\", \"xyz\\n\", \"123\\n\"])"
   ]
  }
 ],
 "metadata": {
  "kernelspec": {
   "display_name": ".venv",
   "language": "python",
   "name": "python3"
  },
  "language_info": {
   "codemirror_mode": {
    "name": "ipython",
    "version": 3
   },
   "file_extension": ".py",
   "mimetype": "text/x-python",
   "name": "python",
   "nbconvert_exporter": "python",
   "pygments_lexer": "ipython3",
   "version": "3.11.9"
  }
 },
 "nbformat": 4,
 "nbformat_minor": 5
}
