{
 "cells": [
  {
   "cell_type": "markdown",
   "id": "51cb9049",
   "metadata": {},
   "source": [
    "## Đặc điểm:\n",
    "- **Không trùng lặp** phần tử\n",
    "- Phần tử **không có thứ tự**\n",
    "- Có thể thay đổi (**mutable**)"
   ]
  },
  {
   "cell_type": "code",
   "execution_count": 1,
   "id": "4e662ad9",
   "metadata": {},
   "outputs": [
    {
     "name": "stdout",
     "output_type": "stream",
     "text": [
      "<class 'dict'>\n",
      "{'m', 'b', 's'}\n"
     ]
    }
   ],
   "source": [
    "# khai báo\n",
    "set1 = {} # set rỗng -> không khai báo có {} -> set()\n",
    "print(type(set1))\n",
    "set2= {\"s\", \"b\", \"m\", \"s\"} # khong trung lap\n",
    "print(set2) "
   ]
  },
  {
   "cell_type": "code",
   "execution_count": 2,
   "id": "5dd79808",
   "metadata": {},
   "outputs": [
    {
     "name": "stdout",
     "output_type": "stream",
     "text": [
      "m\n",
      "b\n",
      "s\n"
     ]
    }
   ],
   "source": [
    "# truy cập phần tử (for in)\n",
    "for item in set2:\n",
    "    print(item)"
   ]
  },
  {
   "cell_type": "code",
   "execution_count": 3,
   "id": "01201b00",
   "metadata": {},
   "outputs": [
    {
     "name": "stdout",
     "output_type": "stream",
     "text": [
      "{'m', 'b', 'new', 's'}\n",
      "{'new1', 'new2', 's', 'm', 'b', 'new'}\n"
     ]
    }
   ],
   "source": [
    "# thêm\n",
    "set2.add(\"new\")\n",
    "print(set2)\n",
    "\n",
    "set2.update({\"new1\", \"new2\"}) # tham so: la 1 danh sach\n",
    "print(set2)"
   ]
  },
  {
   "cell_type": "code",
   "execution_count": 4,
   "id": "3c6bdaf9",
   "metadata": {},
   "outputs": [
    {
     "ename": "KeyError",
     "evalue": "'apple'",
     "output_type": "error",
     "traceback": [
      "\u001b[31m---------------------------------------------------------------------------\u001b[39m",
      "\u001b[31mKeyError\u001b[39m                                  Traceback (most recent call last)",
      "\u001b[36mCell\u001b[39m\u001b[36m \u001b[39m\u001b[32mIn[4]\u001b[39m\u001b[32m, line 2\u001b[39m\n\u001b[32m      1\u001b[39m \u001b[38;5;66;03m# xóa (dựa vào giá trị của phần tử)\u001b[39;00m\n\u001b[32m----> \u001b[39m\u001b[32m2\u001b[39m \u001b[43mset2\u001b[49m\u001b[43m.\u001b[49m\u001b[43mremove\u001b[49m\u001b[43m(\u001b[49m\u001b[33;43m\"\u001b[39;49m\u001b[33;43mapple\u001b[39;49m\u001b[33;43m\"\u001b[39;49m\u001b[43m)\u001b[49m \u001b[38;5;66;03m# khong co -> BAO LOI\u001b[39;00m\n\u001b[32m      4\u001b[39m set2.discard(\u001b[33m\"\u001b[39m\u001b[33mapple\u001b[39m\u001b[33m\"\u001b[39m) \u001b[38;5;66;03m# khong co -> khong bao loi\u001b[39;00m\n",
      "\u001b[31mKeyError\u001b[39m: 'apple'"
     ]
    }
   ],
   "source": [
    "# xóa (dựa vào giá trị của phần tử)\n",
    "set2.remove(\"apple\") # khong co -> BAO LOI\n",
    "\n",
    "set2.discard(\"apple\") # khong co -> khong bao loi"
   ]
  },
  {
   "cell_type": "markdown",
   "id": "d68bfe7c",
   "metadata": {},
   "source": [
    "## Phép toán"
   ]
  },
  {
   "cell_type": "markdown",
   "id": "0574f90b",
   "metadata": {},
   "source": [
    "### Phép hợp (union)\n",
    "- Phép **cộng** 2 set\n",
    "- Sử dụng hàm: **set.union(set)**\n",
    "- Hoặc sử dụng toán từ `|` (or)\n",
    "- **Trả về 1 mảng mới** chứa tất cả các phần tử của 2 mảng ban đầu."
   ]
  },
  {
   "cell_type": "code",
   "execution_count": null,
   "id": "63b72c16",
   "metadata": {},
   "outputs": [],
   "source": [
    "back_end = {\"nodejs\", \"spring\", \"flask\", \"nextjs\"}\n",
    "front_end = {\"react\", \"nodejs\", \"react\", \"angular\"}\n",
    "print(f\"Skills need to learned: {back_end | front_end}\")\n",
    "print(f\"Skills need to learned: {back_end.union(front_end)}\")"
   ]
  },
  {
   "cell_type": "markdown",
   "id": "703459f9",
   "metadata": {},
   "source": [
    "### Phép giao (intersection)\n",
    "- Lấy **phần tử có ở cả 2** set.\n",
    "- Sử dụng hàm: **set.intersection(set)**\n",
    "- Hoặc sử dụng toán tử `&` (and)\n",
    "- **Trả về 1 mảng mới** chứa tất cả các phần tử của 2 mảng ban đầu."
   ]
  },
  {
   "cell_type": "code",
   "execution_count": null,
   "id": "aade213b",
   "metadata": {},
   "outputs": [],
   "source": [
    "print(f\"Skills have in both parts: {back_end & front_end}\")\n",
    "print(f\"Skills have in both parts: {back_end.intersection(front_end)}\")"
   ]
  },
  {
   "cell_type": "markdown",
   "id": "b3aae0e0",
   "metadata": {},
   "source": [
    "### Phép hiệu (subtraction):\n",
    "- **Lấy phần tử của mảng trừ** (A) (không lấy phần tử trùng trong mảng B)\n",
    "- sử dụng hàm: **set.difference(set)**\n",
    "- Hoặc sử dụng toán tử `-` (sub)\n",
    "- **Trả về 1 mảng mới** chứa tất cả các phần tử của 2 mảng ban đầu."
   ]
  },
  {
   "cell_type": "code",
   "execution_count": null,
   "id": "f81aa7b8",
   "metadata": {},
   "outputs": [],
   "source": [
    "print(f\"Only back_end skills: {back_end - front_end}\")\n",
    "print(f\"Only front_end skills: {front_end.difference(back_end)}\")"
   ]
  }
 ],
 "metadata": {
  "kernelspec": {
   "display_name": ".venv",
   "language": "python",
   "name": "python3"
  },
  "language_info": {
   "codemirror_mode": {
    "name": "ipython",
    "version": 3
   },
   "file_extension": ".py",
   "mimetype": "text/x-python",
   "name": "python",
   "nbconvert_exporter": "python",
   "pygments_lexer": "ipython3",
   "version": "3.11.9"
  }
 },
 "nbformat": 4,
 "nbformat_minor": 5
}
