{
 "cells": [
  {
   "cell_type": "code",
   "execution_count": 24,
   "id": "7d14c4a0",
   "metadata": {},
   "outputs": [
    {
     "name": "stdout",
     "output_type": "stream",
     "text": [
      "1\n"
     ]
    }
   ],
   "source": [
    "print(1)"
   ]
  },
  {
   "cell_type": "code",
   "execution_count": 25,
   "id": "7420915b",
   "metadata": {},
   "outputs": [
    {
     "name": "stdout",
     "output_type": "stream",
     "text": [
      "2\n"
     ]
    }
   ],
   "source": [
    "print(2)"
   ]
  },
  {
   "cell_type": "markdown",
   "id": "7ac9b41d",
   "metadata": {},
   "source": [
    "## xuất dữ liệu\n",
    "- print(a,b,c)\n",
    "- print(...., end=\", \") # không gọi end -> mặc định cách nhau bằng 1 xuống dòng"
   ]
  },
  {
   "cell_type": "code",
   "execution_count": 26,
   "id": "39fc2940",
   "metadata": {},
   "outputs": [
    {
     "name": "stdout",
     "output_type": "stream",
     "text": [
      "Tuyen,17\n",
      "1 2\n"
     ]
    }
   ],
   "source": [
    "print(\"Tuyen\", end=\",\")\n",
    "print(\"17\")\n",
    "print(\"1\", \"2\")"
   ]
  },
  {
   "cell_type": "markdown",
   "id": "36672d3e",
   "metadata": {},
   "source": [
    "## nhập dữ liệu\n",
    "- input(): trả về giá trị **string**\n",
    "- input(\"Yêu cầu nhập vào: \")"
   ]
  },
  {
   "cell_type": "code",
   "execution_count": 27,
   "id": "17aef695",
   "metadata": {},
   "outputs": [
    {
     "name": "stdout",
     "output_type": "stream",
     "text": [
      "<class 'str'>\n"
     ]
    }
   ],
   "source": [
    "inp = input()\n",
    "print(type(inp))"
   ]
  },
  {
   "cell_type": "markdown",
   "id": "555012be",
   "metadata": {},
   "source": [
    "## Kiểu dữ liệu\n",
    "- **int**: kiểu số nguyên => 1\n",
    "- **float**: kiểu số thực => 1,3\n",
    "- **string**: kiểu chuỗi => \"abc+- \"\n",
    "- **boolean**: kiểu đúng sai => true/ false"
   ]
  },
  {
   "cell_type": "code",
   "execution_count": 28,
   "id": "40b99513",
   "metadata": {},
   "outputs": [
    {
     "name": "stdout",
     "output_type": "stream",
     "text": [
      "<class 'bool'> <class 'str'>\n",
      "0.30000000000000004\n"
     ]
    }
   ],
   "source": [
    "print(type(True), type(\"String\"))\n",
    "print(0.1 + 0.2)"
   ]
  },
  {
   "cell_type": "markdown",
   "id": "d552742f",
   "metadata": {},
   "source": [
    "### Toán tử số học\n",
    "- Cộng (+)\n",
    "- Trừ (-)\n",
    "- Nhân (*)\n",
    "- Chia (/)\n",
    "- Chia lấy nguyên (//)\n",
    "- Chia lấy dư (%)\n",
    "- Lũy thừa (**)\n",
    "-**Lưu ý**: ***Kiểu float có phạm vi lớn hơn kiểu int. Nếu phép tính có cả float và int thì kết quả sẽ có kiểu float.***\n",
    "- Không thao tác với 2 vế **khác kiểu dữ liệu**"
   ]
  },
  {
   "cell_type": "code",
   "execution_count": 29,
   "id": "c8bec37e",
   "metadata": {},
   "outputs": [
    {
     "name": "stdout",
     "output_type": "stream",
     "text": [
      "Age28\n",
      "aaa\n",
      "<class 'int'>\n",
      "<class 'float'>\n"
     ]
    }
   ],
   "source": [
    "print(\"Age\" + str(28)) # chuyen kieu du lieu ve string\n",
    "print(\"a\"*3) # aaa\n",
    "print(type(10%3)) # chia lay nguyen/ du => int\n",
    "print(type(10/2)) # chia thuong => float\n"
   ]
  },
  {
   "cell_type": "markdown",
   "id": "c4354840",
   "metadata": {},
   "source": [
    "### Toán tử so sánh\n",
    "- Lớn hơn (>)\n",
    "- Lớn hơn hoặc bằng (>=)\n",
    "- Bé hơn (<)\n",
    "- Bé hơn hoặc bằng (<=)\n",
    "- Bằng (==)\n",
    "- Khác (!=)\n",
    "- **Lưu ý:**\n",
    "  - Trả về giá trị **boolean**\n",
    "  - Khi so sánh, chỉ xét **2 vế liền kề, từ trái sang phải**"
   ]
  },
  {
   "cell_type": "markdown",
   "id": "4771e5da",
   "metadata": {},
   "source": [
    "### Toán tử logic\n",
    "- **and**: và (lấy vế False gần nhất, nếu không có False => lấy vế True cuối cùng)\n",
    "- **or**: hoặc (lấy vế True gần nhất, nếu không có True => lấy vế False cuối cùng)\n",
    "- **not**: phủ định\n",
    "- **Lưu ý:**\n",
    "  - 2 vế trái phải đều phải chuyển về kiểu dữ liệu **boolean**\n",
    "  - Trả về giá trị **boolean**\n",
    "  - Khi so sánh, chỉ xét **2 vế liền kề, từ trái sang phải**"
   ]
  },
  {
   "cell_type": "markdown",
   "id": "8683d1c9",
   "metadata": {},
   "source": [
    "**Truly, Falsy:** Những giá trị trả về False khi chuyển kiểu thành **boolean**:\n",
    "- \"\": chuỗi rỗng\n",
    "- 0, 0.0\n",
    "- False\n",
    "- None\n",
    "- [], (), {}, set(): danh sách rỗng"
   ]
  },
  {
   "cell_type": "code",
   "execution_count": 30,
   "id": "8b4726df",
   "metadata": {},
   "outputs": [
    {
     "name": "stdout",
     "output_type": "stream",
     "text": [
      "1.2\n"
     ]
    }
   ],
   "source": [
    "a = [] # false\n",
    "b = \"abc\" # true\n",
    "c = 1.2 # true\n",
    "d = None # false\n",
    "print(a and b or c or not d) # 1.2\n",
    "# a and b: False\n",
    "# False or c: True\n",
    "# not d: True\n",
    "# True or True: True"
   ]
  }
 ],
 "metadata": {
  "kernelspec": {
   "display_name": ".venv",
   "language": "python",
   "name": "python3"
  },
  "language_info": {
   "codemirror_mode": {
    "name": "ipython",
    "version": 3
   },
   "file_extension": ".py",
   "mimetype": "text/x-python",
   "name": "python",
   "nbconvert_exporter": "python",
   "pygments_lexer": "ipython3",
   "version": "3.11.9"
  }
 },
 "nbformat": 4,
 "nbformat_minor": 5
}
