{
 "cells": [
  {
   "cell_type": "markdown",
   "id": "15963a3c",
   "metadata": {},
   "source": [
    "Chia doi danh sach de tim kiem (mid, start, end)\n",
    "<br>\n",
    "**Do phuc tap: O(log2(n))**"
   ]
  },
  {
   "cell_type": "code",
   "execution_count": 24,
   "id": "6582f45d",
   "metadata": {},
   "outputs": [],
   "source": [
    "def binary_search_loop(arr, target) -> None:\n",
    "    #danh sach rong\n",
    "    if not arr: return -1\n",
    "    # tao mid, start, end\n",
    "    start, end = 0, len(arr) - 1\n",
    "    mid = (end - start) // 2 + start\n",
    "    \n",
    "    # lap tu start den end\n",
    "    while start <= end:\n",
    "        # =\n",
    "        if arr[mid] == target:\n",
    "            return mid\n",
    "        # <\n",
    "        if arr[mid] < target:\n",
    "            start = mid + 1\n",
    "        # >\n",
    "        else:\n",
    "            end = mid - 1\n",
    "        # cap nhat mid\n",
    "        mid = (end - start) // 2 + start\n",
    "    # ket thuc vong while -> k tim thay\n",
    "    return -1"
   ]
  },
  {
   "cell_type": "code",
   "execution_count": 25,
   "id": "c3778a53",
   "metadata": {},
   "outputs": [],
   "source": [
    "import timeit\n",
    "import random\n",
    "arr = [ random.randint(-10, 100) for _ in range(1000000)]\n",
    "arr.sort()"
   ]
  },
  {
   "cell_type": "code",
   "execution_count": 26,
   "id": "2f27d074",
   "metadata": {},
   "outputs": [
    {
     "name": "stdout",
     "output_type": "stream",
     "text": [
      "Do thoi gian tim kiem:  0.002754799999820534\n"
     ]
    }
   ],
   "source": [
    "# number (timeit) = do trung binh cho n lan chay\n",
    "print(\"Do thoi gian tim kiem: \", timeit.timeit(lambda: binary_search_loop(arr, -300), number=1000))"
   ]
  },
  {
   "cell_type": "markdown",
   "id": "5a6c55c4",
   "metadata": {},
   "source": [
    "Code de quy"
   ]
  },
  {
   "cell_type": "code",
   "execution_count": 27,
   "id": "e51c3b72",
   "metadata": {},
   "outputs": [],
   "source": [
    "def  binary_search_recursive(arr, target, start, end):\n",
    "    # het lan chay\n",
    "    if start > end: return -1\n",
    "    # tao mid\n",
    "    mid = (end - start) // 2 + start\n",
    "    # neu tim thay\n",
    "    if arr[mid] == target:\n",
    "        return mid\n",
    "    # neu < target\n",
    "    elif arr[mid] < target:\n",
    "        return binary_search_recursive(arr, target, mid + 1, end) # de quy\n",
    "    else:\n",
    "        return binary_search_recursive(arr, target, start, mid - 1) # de quy"
   ]
  },
  {
   "cell_type": "code",
   "execution_count": 28,
   "id": "8b111a3f",
   "metadata": {},
   "outputs": [],
   "source": [
    "def run(arr, target):\n",
    "   if not arr: return -1\n",
    "   return binary_search_recursive(arr, target, 0, len(arr) - 1)"
   ]
  },
  {
   "cell_type": "code",
   "execution_count": 29,
   "id": "791c9e35",
   "metadata": {},
   "outputs": [
    {
     "name": "stdout",
     "output_type": "stream",
     "text": [
      "Ket qua tim kiem: 453124\n",
      "Do thoi gian tim kiem:  0.0015253000001393957\n"
     ]
    }
   ],
   "source": [
    "import timeit\n",
    "import random\n",
    "arr2 = [ random.randint(-10, 100) for _ in range(1000000)]\n",
    "arr2.sort()\n",
    "# ham lamda\n",
    "def a(): return run(arr2, random.randint(-10, 100))\n",
    "exe_time = timeit.timeit(a, number=1000)\n",
    "print(f\"Ket qua tim kiem: {a()}\")\n",
    "print(\"Do thoi gian tim kiem: \", exe_time)\n"
   ]
  }
 ],
 "metadata": {
  "kernelspec": {
   "display_name": ".venv",
   "language": "python",
   "name": "python3"
  },
  "language_info": {
   "codemirror_mode": {
    "name": "ipython",
    "version": 3
   },
   "file_extension": ".py",
   "mimetype": "text/x-python",
   "name": "python",
   "nbconvert_exporter": "python",
   "pygments_lexer": "ipython3",
   "version": "3.11.9"
  }
 },
 "nbformat": 4,
 "nbformat_minor": 5
}
